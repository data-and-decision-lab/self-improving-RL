{
 "cells": [
  {
   "cell_type": "markdown",
   "metadata": {},
   "source": [
    "### Import Libraries"
   ]
  },
  {
   "cell_type": "code",
   "execution_count": 32,
   "metadata": {},
   "outputs": [],
   "source": [
    "import os\n",
    "import sys\n",
    "import numpy as np\n",
    "import pandas as pd\n",
    "import matplotlib.pyplot as plt"
   ]
  },
  {
   "cell_type": "markdown",
   "metadata": {},
   "source": [
    "### Import Useful Functions"
   ]
  },
  {
   "cell_type": "code",
   "execution_count": 33,
   "metadata": {},
   "outputs": [],
   "source": [
    "parent_directory = os.path.join(os.environ[\"BLACK_BOX\"])\n",
    "validations_path = os.path.join(parent_directory, \"experiments/results/validation_checkpoints\")\n",
    "sys.path.append(parent_directory)\n",
    "\n",
    "from experiments.utils.validation_utils import extract_csv"
   ]
  },
  {
   "cell_type": "markdown",
   "metadata": {},
   "source": [
    "### Get Algorithm Paths"
   ]
  },
  {
   "cell_type": "code",
   "execution_count": 34,
   "metadata": {},
   "outputs": [],
   "source": [
    "# validation algorithm resultant folders located in ./experiments/results/validation_checkpoints folder\n",
    "folder_name_1 = \"ce_search_PPOTrainer_highway_environment:highway-environment-v0_2022-07-17_21-09-16c2f6_6ss_Agent0_Chkpt30\""
   ]
  },
  {
   "cell_type": "markdown",
   "metadata": {},
   "source": [
    "### Read Algorithm Results"
   ]
  },
  {
   "cell_type": "code",
   "execution_count": 41,
   "metadata": {},
   "outputs": [],
   "source": [
    "# read results.csv file inside given validation folder\n",
    "df_1 = extract_csv(os.path.join(validations_path, folder_name_1, \"results.csv\"))"
   ]
  },
  {
   "cell_type": "markdown",
   "metadata": {},
   "source": [
    "### Print General Statistics"
   ]
  },
  {
   "cell_type": "code",
   "execution_count": null,
   "metadata": {},
   "outputs": [],
   "source": [
    "print(\"Number of Samples :\\t\", df_1.shape)\n",
    "print(\"Number of Collisions :\\t\", df_1[\"collision\"].value_counts())"
   ]
  },
  {
   "cell_type": "markdown",
   "metadata": {},
   "source": [
    "### Scatter Plots"
   ]
  },
  {
   "cell_type": "code",
   "execution_count": null,
   "metadata": {},
   "outputs": [],
   "source": [
    "plt.style.use(\"seaborn-white\")\n",
    "plt.scatter(x=df_1[\"config.ego_v1\"], y=df_1[\"config.front_v1\"])\n",
    "plt.xlabel(\"ego vehicle initial velocity (m/s)\")\n",
    "plt.ylabel(\"mio vehicle initial velocity (m/s)\")"
   ]
  },
  {
   "cell_type": "code",
   "execution_count": null,
   "metadata": {},
   "outputs": [],
   "source": [
    "plt.style.use(\"seaborn-white\")\n",
    "plt.scatter(x=df_1[\"config.front_v1\"], y=df_1[\"config.front_v2\"])\n",
    "plt.xlabel(\"mio vehicle initial velocity (m/s)\")\n",
    "plt.ylabel(\"mio vehicle final velocity (m/s)\")"
   ]
  }
 ],
 "metadata": {
  "kernelspec": {
   "display_name": "Python 3.7.13 ('highway')",
   "language": "python",
   "name": "python3"
  },
  "language_info": {
   "codemirror_mode": {
    "name": "ipython",
    "version": 3
   },
   "file_extension": ".py",
   "mimetype": "text/x-python",
   "name": "python",
   "nbconvert_exporter": "python",
   "pygments_lexer": "ipython3",
   "version": "3.7.13"
  },
  "orig_nbformat": 4,
  "vscode": {
   "interpreter": {
    "hash": "b77aff7649ba2a81292c27d8b3803e78308c619fc31255c3f8cb38deef8e8c14"
   }
  }
 },
 "nbformat": 4,
 "nbformat_minor": 2
}
