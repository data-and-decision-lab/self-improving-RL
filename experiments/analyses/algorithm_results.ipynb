{
 "cells": [
  {
   "cell_type": "markdown",
   "metadata": {},
   "source": [
    "### Import Libraries"
   ]
  },
  {
   "cell_type": "code",
   "execution_count": 1,
   "metadata": {},
   "outputs": [],
   "source": [
    "import os\n",
    "import sys\n",
    "import numpy as np\n",
    "import pandas as pd\n",
    "import matplotlib.pyplot as plt"
   ]
  },
  {
   "cell_type": "markdown",
   "metadata": {},
   "source": [
    "### Import Useful Functions"
   ]
  },
  {
   "cell_type": "code",
   "execution_count": 2,
   "metadata": {},
   "outputs": [],
   "source": [
    "parent_directory = os.path.join(os.environ[\"BLACK_BOX\"])\n",
    "validations_path = os.path.join(parent_directory, \"experiments/results/validation_checkpoints\")\n",
    "sys.path.append(parent_directory)\n",
    "\n",
    "from experiments.utils.validation_utils import extract_results_csv"
   ]
  },
  {
   "cell_type": "markdown",
   "metadata": {},
   "source": [
    "### Get Algorithm Paths"
   ]
  },
  {
   "cell_type": "code",
   "execution_count": 5,
   "metadata": {},
   "outputs": [],
   "source": [
    "# validation algorithm resultant folders located in ./experiments/results/validation_checkpoints folder\n",
    "folder_name_1 = \"ce_search_PPOTrainer_highway_environment:highway-environment-v0_2022-08-06_17-19-47m0npxs9y_Agent0_Chkpt20\""
   ]
  },
  {
   "cell_type": "markdown",
   "metadata": {},
   "source": [
    "### Read Algorithm Results"
   ]
  },
  {
   "cell_type": "code",
   "execution_count": 7,
   "metadata": {},
   "outputs": [],
   "source": [
    "# read results.csv file inside given validation folder\n",
    "df_1 = extract_results_csv(os.path.join(validations_path, folder_name_1, \"results.csv\"))"
   ]
  },
  {
   "cell_type": "markdown",
   "metadata": {},
   "source": [
    "### Print General Statistics"
   ]
  },
  {
   "cell_type": "code",
   "execution_count": null,
   "metadata": {},
   "outputs": [],
   "source": [
    "n_samples = df_1.shape[0]\n",
    "print(\"Number of Samples :\\t\", df_1.shape)\n",
    "\n",
    "n_collisions = df_1[\"collision\"].value_counts()[True]\n",
    "print(\"Number of Collisions :\\t\", n_collisions)"
   ]
  },
  {
   "cell_type": "markdown",
   "metadata": {},
   "source": [
    "### Scatter Plots"
   ]
  },
  {
   "cell_type": "code",
   "execution_count": 9,
   "metadata": {},
   "outputs": [],
   "source": [
    "font = {'family': 'serif',\n",
    "        'color':  'black',\n",
    "        'weight': 'normal',\n",
    "        'size': 12,\n",
    "        }\n",
    "\n",
    "colormap = plt.cm.gist_ncar # nipy_spectral, Set1, Paired   \n",
    "colors = [colormap(i) for i in np.linspace(0, 1, n_samples)]\n",
    "\n",
    "text = \"#samples\\n\" + str(n_samples) + \"\\n\\n#collisions\\n\" + str(n_collisions)"
   ]
  },
  {
   "cell_type": "code",
   "execution_count": null,
   "metadata": {},
   "outputs": [],
   "source": [
    "title_name = folder_name_1[:10] + \"-\" + folder_name_1[-15:]\n",
    "\n",
    "plt.style.use(\"seaborn-white\")\n",
    "plt.scatter(x=df_1[\"config/ego_v1\"], y=df_1[\"config/front_v1\"], c=colors, marker=\"o\", s=8)\n",
    "plt.text(42, 28, text, fontdict=font)\n",
    "\n",
    "plt.title(title_name, fontdict=font)\n",
    "plt.xlabel(\"ego vehicle initial velocity (m/s)\", fontdict=font)\n",
    "plt.ylabel(\"mio vehicle initial velocity (m/s)\", fontdict=font)\n",
    "\n",
    "save_name = \"ego_vehicle\"\n",
    "plt.savefig(title_name + \"_\" + save_name + \".png\", dpi=300, bbox_inches=\"tight\")"
   ]
  },
  {
   "cell_type": "code",
   "execution_count": null,
   "metadata": {},
   "outputs": [],
   "source": [
    "title_name = folder_name_1[:10] + \"-\" + folder_name_1[-15:]\n",
    "\n",
    "plt.style.use(\"seaborn-white\")\n",
    "plt.scatter(x=df_1[\"config/front_v1\"], y=df_1[\"config/front_v2\"], c=colors, marker=\"o\", s=8)\n",
    "plt.text(42, 28, text, fontdict=font)\n",
    "\n",
    "plt.title(title_name, fontdict=font)\n",
    "plt.xlabel(\"mio vehicle initial velocity (m/s)\", fontdict=font)\n",
    "plt.ylabel(\"mio vehicle final velocity (m/s)\", fontdict=font)\n",
    "\n",
    "save_name = \"mio_vehicle\"\n",
    "plt.savefig(title_name + \"_\" + save_name + \".png\", dpi=300, bbox_inches=\"tight\")"
   ]
  },
  {
   "cell_type": "markdown",
   "metadata": {},
   "source": [
    "### Probability Plots"
   ]
  },
  {
   "cell_type": "code",
   "execution_count": 12,
   "metadata": {},
   "outputs": [],
   "source": [
    "n_samples = df_1.shape[0]\n",
    "mean_scale = np.logspace(-3, 1, n_samples)"
   ]
  },
  {
   "cell_type": "code",
   "execution_count": 13,
   "metadata": {},
   "outputs": [],
   "source": [
    "df_1_probability = np.zeros(n_samples)\n",
    "\n",
    "for i in range(n_samples):\n",
    "    df_1_reward_scaled = df_1[df_1[\"reward\"].between(0, mean_scale[i])]\n",
    "    df_1_probability[i] = df_1_reward_scaled.shape[0] / len(df_1)"
   ]
  },
  {
   "cell_type": "code",
   "execution_count": null,
   "metadata": {
    "scrolled": true
   },
   "outputs": [],
   "source": [
    "plt.plot(mean_scale, df_1_probability, label=title_name)"
   ]
  }
 ],
 "metadata": {
  "kernelspec": {
   "display_name": "Python 3 (ipykernel)",
   "language": "python",
   "name": "python3"
  },
  "language_info": {
   "codemirror_mode": {
    "name": "ipython",
    "version": 3
   },
   "file_extension": ".py",
   "mimetype": "text/x-python",
   "name": "python",
   "nbconvert_exporter": "python",
   "pygments_lexer": "ipython3",
   "version": "3.7.13"
  },
  "vscode": {
   "interpreter": {
    "hash": "b77aff7649ba2a81292c27d8b3803e78308c619fc31255c3f8cb38deef8e8c14"
   }
  }
 },
 "nbformat": 4,
 "nbformat_minor": 2
}
