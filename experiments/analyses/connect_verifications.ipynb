{
 "cells": [
  {
   "cell_type": "code",
   "execution_count": 147,
   "id": "5cf3e09c",
   "metadata": {},
   "outputs": [],
   "source": [
    "import os\n",
    "import sys\n",
    "import math\n",
    "import numpy as np\n",
    "import pandas as pd"
   ]
  },
  {
   "cell_type": "code",
   "execution_count": 148,
   "id": "a8d2f2d0",
   "metadata": {},
   "outputs": [],
   "source": [
    "parent_directory = os.path.join(os.environ[\"BLACK_BOX\"])\n",
    "validations_path = os.path.join(parent_directory, \"experiments/results/validation_checkpoints\")\n",
    "sys.path.append(parent_directory)\n",
    "\n",
    "from experiments.utils.validation_utils import extract_results_csv"
   ]
  },
  {
   "cell_type": "code",
   "execution_count": 149,
   "id": "28b1bc7d",
   "metadata": {},
   "outputs": [],
   "source": [
    "folder_names = [\n",
    "    \"ams_search_PPOTrainer_highway_environment:highway-environment-v0_2022-09-12_15-31-05n41q5t0s_Agent2_ams_Chkpt277\",\n",
    "]"
   ]
  },
  {
   "cell_type": "code",
   "execution_count": null,
   "id": "8749aa05",
   "metadata": {},
   "outputs": [],
   "source": [
    "temp_dfs = []\n",
    "\n",
    "for folder in folder_names:\n",
    "    df = extract_results_csv(os.path.join(validations_path, folder, \"results.csv\"))\n",
    "    temp_dfs.append(df)\n",
    "\n",
    "samples_df = pd.concat(temp_dfs)\n",
    "samples_df = samples_df.sort_values(by=\"episode_min_ttc\", ascending=True, ignore_index=True)\n",
    "samples_df"
   ]
  },
  {
   "cell_type": "code",
   "execution_count": null,
   "id": "41e8b1be",
   "metadata": {},
   "outputs": [],
   "source": [
    "samples_df = samples_df[samples_df[\"episode_min_ttc\"].between(0.5, 5.0)]\n",
    "samples_df = samples_df[samples_df[\"impossible\"] == False]\n",
    "samples_df"
   ]
  },
  {
   "cell_type": "code",
   "execution_count": null,
   "id": "0978e2da",
   "metadata": {},
   "outputs": [],
   "source": [
    "sum(samples_df[\"collision\"])"
   ]
  },
  {
   "cell_type": "code",
   "execution_count": null,
   "id": "f0d31c47",
   "metadata": {},
   "outputs": [],
   "source": [
    "samples_df.episode_min_ttc.plot()"
   ]
  },
  {
   "cell_type": "code",
   "execution_count": null,
   "id": "adc7eb53",
   "metadata": {},
   "outputs": [],
   "source": [
    "a = np.random.randint(10, 353, size=253)\n",
    "a"
   ]
  },
  {
   "cell_type": "code",
   "execution_count": 155,
   "id": "f8793d0d",
   "metadata": {},
   "outputs": [],
   "source": [
    "indices = np.random.choice(list(a), 251)"
   ]
  },
  {
   "cell_type": "code",
   "execution_count": null,
   "id": "e216e02e",
   "metadata": {},
   "outputs": [],
   "source": [
    "samples_df = samples_df.drop(list(indices))\n",
    "samples_df"
   ]
  },
  {
   "cell_type": "code",
   "execution_count": 157,
   "id": "03a457f9",
   "metadata": {},
   "outputs": [],
   "source": [
    "samples_df.to_csv(\"results.csv\")"
   ]
  }
 ],
 "metadata": {
  "kernelspec": {
   "display_name": "Python 3.7.5 64-bit",
   "language": "python",
   "name": "python3"
  },
  "language_info": {
   "codemirror_mode": {
    "name": "ipython",
    "version": 3
   },
   "file_extension": ".py",
   "mimetype": "text/x-python",
   "name": "python",
   "nbconvert_exporter": "python",
   "pygments_lexer": "ipython3",
   "version": "3.7.5"
  },
  "vscode": {
   "interpreter": {
    "hash": "fd69f43f58546b570e94fd7eba7b65e6bcc7a5bbc4eab0408017d18902915d69"
   }
  }
 },
 "nbformat": 4,
 "nbformat_minor": 5
}
