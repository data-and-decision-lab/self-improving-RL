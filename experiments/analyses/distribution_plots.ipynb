{
 "cells": [
  {
   "cell_type": "markdown",
   "id": "22cfa2ab",
   "metadata": {},
   "source": [
    "## Libraries"
   ]
  },
  {
   "cell_type": "code",
   "execution_count": 9,
   "id": "f477f16a",
   "metadata": {},
   "outputs": [],
   "source": [
    "import os\n",
    "import sys\n",
    "import numpy as np\n",
    "import pandas as pd\n",
    "import matplotlib.pyplot as plt\n",
    "import plotly.graph_objects as go\n",
    "import plotly.express as px\n",
    "import plotly.io as pio\n",
    "import plotly.figure_factory as ff"
   ]
  },
  {
   "cell_type": "code",
   "execution_count": 10,
   "id": "364ee4fa",
   "metadata": {},
   "outputs": [],
   "source": [
    "parent_directory = os.path.join(os.environ[\"BLACK_BOX\"])\n",
    "evals_path = os.path.join(parent_directory, \"experiments/results/evaluation_statistics\")\n",
    "sys.path.append(parent_directory)\n",
    "\n",
    "from experiments.utils.validation_utils import load_eval_from_csv"
   ]
  },
  {
   "cell_type": "markdown",
   "id": "b6f64b10",
   "metadata": {},
   "source": [
    "## Experiments Paths"
   ]
  },
  {
   "cell_type": "code",
   "execution_count": 11,
   "id": "25fc3983",
   "metadata": {},
   "outputs": [],
   "source": [
    "# evaluation RL model folders located in ./experiments/results/evaluation_statistics folder\n",
    "n_seeds = 5\n",
    "\n",
    "exp_folders_idm = [\n",
    "    \"seed_1999/evaluation_idm_2_connected_samples_05_50_Container_PPOTrainer_highway_environment:highway-environment-v0_2022-09-11_16-38-15kgcwmnhn_Agent0\",\n",
    "    \"seed_12/evaluation_idm_2_connected_samples_05_50_Container_PPOTrainer_highway_environment:highway-environment-v0_2022-09-11_16-38-15kgcwmnhn_Agent0\"\n",
    "    \"seed_9/evaluation_idm_2_connected_samples_05_50_Container_PPOTrainer_highway_environment:highway-environment-v0_2022-09-11_16-38-15kgcwmnhn_Agent0\"\n",
    "    \"seed_2022/evaluation_idm_2_connected_samples_05_50_Container_PPOTrainer_highway_environment:highway-environment-v0_2022-09-11_16-38-15kgcwmnhn_Agent0\"\n",
    "    \"seed_42/evaluation_idm_2_connected_samples_05_50_Container_PPOTrainer_highway_environment:highway-environment-v0_2022-09-11_16-38-15kgcwmnhn_Agent0\"\n",
    "]\n",
    "\n",
    "exp_folders_grid = [\n",
    "    \"seed_12/evaluation_container_uniform_PPOTrainer_highway_environment:highway-environment-v0_2022-09-08_20-38-04zwfw2_vj_Agent0\",\n",
    "    \"seed_9/evaluation_Random_Container_PPOTrainer_highway_environment:highway-environment-v0_2022-09-11_16-38-15kgcwmnhn_Agent0\",\n",
    "    \"seed_42/evaluation_Random_Container_PPOTrainer_highway_environment:highway-environment-v0_2022-09-08_20-38-04zwfw2_vj_Agent0\",\n",
    "    \"seed_2022/evaluation_ams_Random_Container_PPOTrainer_highway_environment:highway-environment-v0_2022-09-11_16-38-15kgcwmnhn_Agent0\",\n",
    "    \"seed_6/evaluation_Random_Container_PPOTrainer_highway_environment:highway-environment-v0_2022-09-11_16-38-15kgcwmnhn_Agent0\",\n",
    "    \n",
    "    \"seed_12/evaluation_container_uniform_PPOTrainer_highway_environment:highway-environment-v0_2022-09-09_12-50-34oharsea7_Agent1_grid\",\n",
    "    \"seed_9/evaluation_container_uniform_PPOTrainer_highway_environment:highway-environment-v0_2022-09-09_12-50-34oharsea7_Agent1_grid\",\n",
    "    \"seed_42/evaluation_Random_Container_PPOTrainer_highway_environment:highway-environment-v0_2022-09-09_12-50-34oharsea7_Agent1_grid\",\n",
    "    \"seed_2022/evaluation_ams_Random_Container_PPOTrainer_highway_environment:highway-environment-v0_2022-09-09_12-50-34oharsea7_Agent1_grid\",\n",
    "    \"seed_6/evaluation_Random_Container_PPOTrainer_highway_environment:highway-environment-v0_2022-09-09_12-50-34oharsea7_Agent1_grid\",\n",
    "    \n",
    "    \"seed_12/evaluation_container_uniform_PPOTrainer_highway_environment:highway-environment-v0_2022-09-09_16-32-14pw24ok8e_Agent2_grid\",\n",
    "    \"seed_9/evaluation_container_uniform_PPOTrainer_highway_environment:highway-environment-v0_2022-09-09_16-32-14pw24ok8e_Agent2_grid\",\n",
    "    \"seed_42/evaluation_Random_Container_PPOTrainer_highway_environment:highway-environment-v0_2022-09-09_16-32-14pw24ok8e_Agent2_grid\",\n",
    "    \"seed_2022/evaluation_ams_Random_Container_PPOTrainer_highway_environment:highway-environment-v0_2022-09-09_16-32-14pw24ok8e_Agent2_grid\",\n",
    "    \"seed_6/evaluation_Random_Container_PPOTrainer_highway_environment:highway-environment-v0_2022-09-09_16-32-14pw24ok8e_Agent2_grid\",\n",
    "    \n",
    "    \"seed_12/evaluation_container_uniform_PPOTrainer_highway_environment:highway-environment-v0_2022-09-09_20-17-443f3le4ai_Agent3_grid\",\n",
    "    \"seed_9/evaluation_container_uniform_PPOTrainer_highway_environment:highway-environment-v0_2022-09-09_20-17-443f3le4ai_Agent3_grid\",\n",
    "    \"seed_42/evaluation_Random_Container_PPOTrainer_highway_environment:highway-environment-v0_2022-09-09_20-17-443f3le4ai_Agent3_grid\",\n",
    "    \"seed_2022/evaluation_ams_Random_Container_PPOTrainer_highway_environment:highway-environment-v0_2022-09-09_20-17-443f3le4ai_Agent3_grid\",\n",
    "    \"seed_6/evaluation_Random_Container_PPOTrainer_highway_environment:highway-environment-v0_2022-09-09_20-17-443f3le4ai_Agent3_grid\",\n",
    "\n",
    "]\n",
    "exp_folders_mc = [\n",
    "    \"seed_12/evaluation_container_uniform_PPOTrainer_highway_environment:highway-environment-v0_2022-09-08_20-38-04zwfw2_vj_Agent0\",\n",
    "    \"seed_9/evaluation_Random_Container_PPOTrainer_highway_environment:highway-environment-v0_2022-09-11_16-38-15kgcwmnhn_Agent0\",\n",
    "    \"seed_42/evaluation_Random_Container_PPOTrainer_highway_environment:highway-environment-v0_2022-09-08_20-38-04zwfw2_vj_Agent0\",\n",
    "    \"seed_2022/evaluation_ams_Random_Container_PPOTrainer_highway_environment:highway-environment-v0_2022-09-11_16-38-15kgcwmnhn_Agent0\",\n",
    "    \"seed_6/evaluation_Random_Container_PPOTrainer_highway_environment:highway-environment-v0_2022-09-11_16-38-15kgcwmnhn_Agent0\",\n",
    "    \n",
    "    \"seed_12/evaluation_container_uniform_PPOTrainer_highway_environment:highway-environment-v0_2022-09-09_12-49-312_rhg1q1_Agent1_mc\",\n",
    "    \"seed_9/evaluation_Random_Container_PPOTrainer_highway_environment:highway-environment-v0_2022-09-12_13-39-09926gko_u_Agent1_mc\",\n",
    "    \"seed_42/evaluation_Random_Container_PPOTrainer_highway_environment:highway-environment-v0_2022-09-09_12-49-312_rhg1q1_Agent1_mc\",\n",
    "    \"seed_2022/evaluation_ams_Random_Container_PPOTrainer_highway_environment:highway-environment-v0_2022-09-12_13-39-09926gko_u_Agent1_mc\",\n",
    "    \"seed_6/evaluation_Random_Container_PPOTrainer_highway_environment:highway-environment-v0_2022-09-09_12-49-312_rhg1q1_Agent1_mc\",\n",
    "\n",
    "    \"seed_12/evaluation_container_uniform_PPOTrainer_highway_environment:highway-environment-v0_2022-09-09_16-29-35uxa2mv8v_Agent2_mc\",\n",
    "    \"seed_9/evaluation_Random_Container_PPOTrainer_highway_environment:highway-environment-v0_2022-09-12_15-50-23gc0ezwmy_Agent2_mc\",\n",
    "    \"seed_42/evaluation_Random_Container_PPOTrainer_highway_environment:highway-environment-v0_2022-09-09_16-29-35uxa2mv8v_Agent2_mc\",\n",
    "    \"seed_2022/evaluation_ams_Random_Container_PPOTrainer_highway_environment:highway-environment-v0_2022-09-12_15-50-23gc0ezwmy_Agent2_mc\",\n",
    "    \"seed_6/evaluation_Random_Container_PPOTrainer_highway_environment:highway-environment-v0_2022-09-09_16-29-35uxa2mv8v_Agent2_mc\",\n",
    "\n",
    "    \"seed_12/evaluation_container_uniform_PPOTrainer_highway_environment:highway-environment-v0_2022-09-09_20-15-476oxy54mv_Agent3_mc\",\n",
    "    \"seed_9/evaluation_Random_Container_PPOTrainer_highway_environment:highway-environment-v0_2022-09-12_17-35-595uvfyj_h_Agent3_mc\",\n",
    "    \"seed_42/evaluation_Random_Container_PPOTrainer_highway_environment:highway-environment-v0_2022-09-09_20-15-476oxy54mv_Agent3_mc\",\n",
    "    \"seed_2022/evaluation_ams_Random_Container_PPOTrainer_highway_environment:highway-environment-v0_2022-09-12_17-35-595uvfyj_h_Agent3_mc\",\n",
    "    \"seed_6/evaluation_Random_Container_PPOTrainer_highway_environment:highway-environment-v0_2022-09-09_20-15-476oxy54mv_Agent3_mc\",\n",
    "]\n",
    "exp_folders_ce = [\n",
    "    \"seed_12/evaluation_container_uniform_PPOTrainer_highway_environment:highway-environment-v0_2022-09-08_20-38-04zwfw2_vj_Agent0\",\n",
    "    \"seed_9/evaluation_Random_Container_PPOTrainer_highway_environment:highway-environment-v0_2022-09-11_16-38-15kgcwmnhn_Agent0\",\n",
    "    \"seed_42/evaluation_Random_Container_PPOTrainer_highway_environment:highway-environment-v0_2022-09-08_20-38-04zwfw2_vj_Agent0\",\n",
    "    \"seed_2022/evaluation_ams_Random_Container_PPOTrainer_highway_environment:highway-environment-v0_2022-09-11_16-38-15kgcwmnhn_Agent0\",\n",
    "    \"seed_6/evaluation_Random_Container_PPOTrainer_highway_environment:highway-environment-v0_2022-09-11_16-38-15kgcwmnhn_Agent0\",\n",
    "    \n",
    "    \"seed_12/evaluation_container_uniform_PPOTrainer_highway_environment:highway-environment-v0_2022-09-09_12-18-14jgjirids_Agent1_ce\",\n",
    "    \"seed_9/evaluation_Random_Container_PPOTrainer_highway_environment:highway-environment-v0_2022-09-12_13-42-00hooez3la_Agent1_ce\",\n",
    "    \"seed_42/evaluation_Random_Container_PPOTrainer_highway_environment:highway-environment-v0_2022-09-09_12-18-14jgjirids_Agent1_ce\",\n",
    "    \"seed_2022/evaluation_ams_Random_Container_PPOTrainer_highway_environment:highway-environment-v0_2022-09-12_13-42-00hooez3la_Agent1_ce\",\n",
    "    \"seed_6/evaluation_Random_Container_PPOTrainer_highway_environment:highway-environment-v0_2022-09-09_12-18-14jgjirids_Agent1_ce\",\n",
    "\n",
    "    \"seed_12/evaluation_container_uniform_PPOTrainer_highway_environment:highway-environment-v0_2022-09-09_15-07-50zv8_eroi_Agent2_ce\",\n",
    "    \"seed_9/evaluation_Random_Container_PPOTrainer_highway_environment:highway-environment-v0_2022-09-12_14-59-19tn3rahh6_Agent2_ce\",\n",
    "    \"seed_42/evaluation_Random_Container_PPOTrainer_highway_environment:highway-environment-v0_2022-09-09_15-07-50zv8_eroi_Agent2_ce\",\n",
    "    \"seed_2022/evaluation_ams_Random_Container_PPOTrainer_highway_environment:highway-environment-v0_2022-09-12_14-59-19tn3rahh6_Agent2_ce\",\n",
    "    \"seed_6/evaluation_Random_Container_PPOTrainer_highway_environment:highway-environment-v0_2022-09-09_15-07-50zv8_eroi_Agent2_ce\",\n",
    "    \n",
    "    \"seed_12/evaluation_container_uniform_PPOTrainer_highway_environment:highway-environment-v0_2022-09-09_20-13-38zp5ij_ha_Agent3_ce\",\n",
    "    \"seed_9/evaluation_Random_Container_PPOTrainer_highway_environment:highway-environment-v0_2022-09-12_16-24-30umz1icqo_Agent3_ce\",\n",
    "    \"seed_42/evaluation_Random_Container_PPOTrainer_highway_environment:highway-environment-v0_2022-09-09_20-13-38zp5ij_ha_Agent3_ce\",\n",
    "    \"seed_2022/evaluation_ams_Random_Container_PPOTrainer_highway_environment:highway-environment-v0_2022-09-12_16-24-30umz1icqo_Agent3_ce\",\n",
    "    \"seed_6/evaluation_Random_Container_PPOTrainer_highway_environment:highway-environment-v0_2022-09-09_20-13-38zp5ij_ha_Agent3_ce\",\n",
    "]\n",
    "exp_folders_bo = [\n",
    "    \"seed_12/evaluation_container_uniform_PPOTrainer_highway_environment:highway-environment-v0_2022-09-08_20-38-04zwfw2_vj_Agent0\",\n",
    "    \"seed_9/evaluation_Random_Container_PPOTrainer_highway_environment:highway-environment-v0_2022-09-11_16-38-15kgcwmnhn_Agent0\",\n",
    "    \"seed_42/evaluation_Random_Container_PPOTrainer_highway_environment:highway-environment-v0_2022-09-08_20-38-04zwfw2_vj_Agent0\",\n",
    "    \"seed_2022/evaluation_ams_Random_Container_PPOTrainer_highway_environment:highway-environment-v0_2022-09-11_16-38-15kgcwmnhn_Agent0\",\n",
    "    \"seed_6/evaluation_Random_Container_PPOTrainer_highway_environment:highway-environment-v0_2022-09-11_16-38-15kgcwmnhn_Agent0\",\n",
    "    \n",
    "    \"seed_12/evaluation_Random_Container_PPOTrainer_highway_environment:highway-environment-v0_2022-09-11_23-02-417uou2508_Agent1_bo\",\n",
    "    \"seed_9/evaluation_Random_Container_PPOTrainer_highway_environment:highway-environment-v0_2022-09-12_13-40-209mcd0asb_Agent1_bo\",\n",
    "    \"seed_42/evaluation_ams_Random_Container_PPOTrainer_highway_environment:highway-environment-v0_2022-09-12_13-40-209mcd0asb_Agent1_bo\",\n",
    "    \"seed_2022/evaluation_ams_Random_Container_PPOTrainer_highway_environment:highway-environment-v0_2022-09-12_13-40-209mcd0asb_Agent1_bo\",\n",
    "    \"seed_6/evaluation_Random_Container_PPOTrainer_highway_environment:highway-environment-v0_2022-09-11_23-02-417uou2508_Agent1_bo\",\n",
    "    \n",
    "    \"seed_12/evaluation_Random_Container_PPOTrainer_highway_environment:highway-environment-v0_2022-09-12_07-04-47d194k0gb_Agent2_bo\",\n",
    "    \"seed_9/evaluation_Random_Container_PPOTrainer_highway_environment:highway-environment-v0_2022-09-12_15-02-128_acqlfm_Agent2_bo\",\n",
    "    \"seed_42/evaluation_Random_Container_PPOTrainer_highway_environment:highway-environment-v0_2022-09-12_07-04-47d194k0gb_Agent2_bo\",\n",
    "    \"seed_2022/evaluation_ams_Random_Container_PPOTrainer_highway_environment:highway-environment-v0_2022-09-12_15-02-128_acqlfm_Agent2_bo\",\n",
    "    \"seed_6/evaluation_Random_Container_PPOTrainer_highway_environment:highway-environment-v0_2022-09-12_07-04-47d194k0gb_Agent2_bo\",\n",
    "    \n",
    "    \"seed_12/evaluation_Random_Container_PPOTrainer_highway_environment:highway-environment-v0_2022-09-12_09-55-59blagjf2f_Agent3_bo\",\n",
    "    \"seed_9/evaluation_Random_Container_PPOTrainer_highway_environment:highway-environment-v0_2022-09-12_17-38-10ucphqanq_Agent3_bo\",\n",
    "    \"seed_42/evaluation_ams_Random_Container_PPOTrainer_highway_environment:highway-environment-v0_2022-09-12_17-38-10ucphqanq_Agent3_bo\",\n",
    "    \"seed_2022/evaluation_ams_Random_Container_PPOTrainer_highway_environment:highway-environment-v0_2022-09-12_17-38-10ucphqanq_Agent3_bo\",\n",
    "    \"seed_6/evaluation_Random_Container_PPOTrainer_highway_environment:highway-environment-v0_2022-09-12_09-55-59blagjf2f_Agent3_bo\",\n",
    "]\n",
    "exp_folders_ams = [\n",
    "    \"seed_12/evaluation_container_uniform_PPOTrainer_highway_environment:highway-environment-v0_2022-09-08_20-38-04zwfw2_vj_Agent0\",\n",
    "    \"seed_9/evaluation_Random_Container_PPOTrainer_highway_environment:highway-environment-v0_2022-09-11_16-38-15kgcwmnhn_Agent0\",\n",
    "    \"seed_42/evaluation_Random_Container_PPOTrainer_highway_environment:highway-environment-v0_2022-09-08_20-38-04zwfw2_vj_Agent0\",\n",
    "    \"seed_2022/evaluation_ams_Random_Container_PPOTrainer_highway_environment:highway-environment-v0_2022-09-11_16-38-15kgcwmnhn_Agent0\",\n",
    "    \"seed_6/evaluation_Random_Container_PPOTrainer_highway_environment:highway-environment-v0_2022-09-11_16-38-15kgcwmnhn_Agent0\",\n",
    "    \n",
    "    \"seed_12/evaluation_container_uniform_PPOTrainer_highway_environment:highway-environment-v0_2022-09-10_10-36-06liopkmhd_Agent1_ams\",\n",
    "    \"seed_9/evaluation_Random_Container_PPOTrainer_highway_environment:highway-environment-v0_2022-09-12_13-45-31rxfv9zzx_Agent1_ams\",\n",
    "    \"seed_42/evaluation_Random_Container_PPOTrainer_highway_environment:highway-environment-v0_2022-09-10_11-56-460y0strry_Agent1_ams\",\n",
    "    \"seed_2022/evaluation_ams_Random_Container_PPOTrainer_highway_environment:highway-environment-v0_2022-09-12_13-45-31rxfv9zzx_Agent1_ams\",\n",
    "    \"seed_6/evaluation_Random_Container_PPOTrainer_highway_environment:highway-environment-v0_2022-09-10_10-36-06liopkmhd_Agent1_ams\",\n",
    "\n",
    "    \"seed_12/evaluation_container_uniform_PPOTrainer_highway_environment:highway-environment-v0_2022-09-10_11-56-460y0strry_Agent2_ams\",\n",
    "    \"seed_9/evaluation_Random_Container_PPOTrainer_highway_environment:highway-environment-v0_2022-09-12_15-31-05n41q5t0s_Agent2_ams\",\n",
    "    \"seed_42/evaluation_Random_Container_PPOTrainer_highway_environment:highway-environment-v0_2022-09-10_11-56-460y0strry_Agent2_ams\",\n",
    "    \"seed_2022/evaluation_ams_Random_Container_PPOTrainer_highway_environment:highway-environment-v0_2022-09-12_15-31-05n41q5t0s_Agent2_ams\",\n",
    "    \"seed_6/evaluation_Random_Container_PPOTrainer_highway_environment:highway-environment-v0_2022-09-10_11-56-460y0strry_Agent2_ams\",\n",
    "    \n",
    "    \"seed_12/evaluation_Random_ContainerPPOTrainer_highway_environment:highway-environment-v0_2022-09-10_13-37-05o9_fwqcp_Agent3_ams\",\n",
    "    \"seed_9/evaluation_Random_Container_PPOTrainer_highway_environment:highway-environment-v0_2022-09-12_17-46-58mel5v_pn_Agent3_ams\",\n",
    "    \"seed_42/evaluation_Random_Container_PPOTrainer_highway_environment:highway-environment-v0_2022-09-10_13-37-05o9_fwqcp_Agent3_ams\",\n",
    "    \"seed_2022/evaluation_ams_Random_Container_PPOTrainer_highway_environment:highway-environment-v0_2022-09-12_17-46-58mel5v_pn_Agent3_ams\",\n",
    "    \"seed_6/evaluation_Random_Container_PPOTrainer_highway_environment:highway-environment-v0_2022-09-10_13-37-05o9_fwqcp_Agent3_ams\",\n",
    "]\n",
    "\n",
    "save_name = \"collision_number_bar\"\n",
    "method_paths = [exp_folders_idm, exp_folders_grid, exp_folders_mc, exp_folders_ce, exp_folders_bo, exp_folders_ams]\n",
    "algo_names = [\"IDM     \\nRule-Based\", \"GS Sampled\\nRL Agent  \", \"MC Sampled\\nRL Agent  \", \"CE Sampled\\nRL Agent  \", \"BO Sampled\\nRL Agent  \", \"AMS Sampled\\nRL Agent  \"]\n",
    "algo_colors = [\"rgb(64, 13, 81)\", \"rgb(0, 92, 171)\", \"rgb(227, 27, 35)\", \"rgb(255, 195, 37)\", \"rgb(108, 172, 154)\", \"rgb(172, 108, 108)\"]\n",
    "colors = ['#400D51', '#393E46', '#2BCDC1', '#F66095', '#B8F7D4']\n",
    "\n",
    "gen_number = 0"
   ]
  },
  {
   "cell_type": "code",
   "execution_count": 12,
   "id": "ec296138",
   "metadata": {},
   "outputs": [],
   "source": [
    "# get all evaluations\n",
    "eval_paths = []\n",
    "\n",
    "for exp_folders in method_paths:\n",
    "    \n",
    "    exp_folder = exp_folders[gen_number]\n",
    "    \n",
    "    eval_directory = os.path.join(evals_path, exp_folder)\n",
    "    eval_paths.append([eval_directory + \"/\" + f for f in os.listdir(eval_directory) if os.path.isfile(os.path.join(eval_directory, f))])"
   ]
  },
  {
   "cell_type": "markdown",
   "id": "6fb8522f",
   "metadata": {},
   "source": [
    "## Data Preprocess"
   ]
  },
  {
   "cell_type": "code",
   "execution_count": 13,
   "id": "d3d0d5fb",
   "metadata": {},
   "outputs": [],
   "source": [
    "def get_stats(eval_files):\n",
    "    full_eps_results = []\n",
    "    eps_rewards = []\n",
    "    n_collisions = []\n",
    "    n_impossibles = []\n",
    "\n",
    "    for eps_stat in eval_files:\n",
    "        stat_df = load_eval_from_csv(file_name=eps_stat)\n",
    "\n",
    "        eps_avg_reward = stat_df[\"ego_rewards\"].mean(skipna = True)\n",
    "        eps_sum_reward = stat_df[\"ego_rewards\"].sum(skipna = True)\n",
    "        eps_rewards.append(eps_sum_reward)\n",
    "\n",
    "        is_collision = stat_df[\"is_collision\"].iloc[0]\n",
    "        n_collisions.append(is_collision)\n",
    "\n",
    "        is_impossible = stat_df[\"is_impossible\"].iloc[0]\n",
    "        n_impossibles.append(is_impossible)\n",
    "        \n",
    "        # if not is_impossible and stat_df[\"episode_min_ttc\"].iloc[0] < 2:\n",
    "        # if not is_impossible and is_collision:\n",
    "        if not is_impossible:\n",
    "            full_eps_results.append(stat_df)\n",
    "    \n",
    "    return full_eps_results, eps_rewards, sum(n_collisions), sum(n_impossibles)"
   ]
  },
  {
   "cell_type": "markdown",
   "id": "669221a5",
   "metadata": {},
   "source": [
    "## Get Features"
   ]
  },
  {
   "cell_type": "code",
   "execution_count": null,
   "id": "f997a319",
   "metadata": {
    "scrolled": true
   },
   "outputs": [],
   "source": [
    "all_results = []\n",
    "\n",
    "for idx, eval_path in enumerate(eval_paths):\n",
    "    eps_results, eps_rewards, n_collisions, n_impossibles = get_stats(eval_files=eval_path)\n",
    "    all_results.append(pd.concat(eps_results))"
   ]
  },
  {
   "cell_type": "code",
   "execution_count": 15,
   "id": "8ca46724",
   "metadata": {
    "scrolled": true
   },
   "outputs": [],
   "source": [
    "ttc_features = []\n",
    "tgap_features = []\n",
    "\n",
    "for results in all_results:\n",
    "    ttc_features.append(results.ttc[results.ttc.between(0.0, 5)])\n",
    "    \n",
    "    tgap_features.append(results.tgap[results.tgap.between(0.0, 5)])"
   ]
  },
  {
   "cell_type": "markdown",
   "id": "2989dad4",
   "metadata": {},
   "source": [
    "## Plot Figures"
   ]
  },
  {
   "cell_type": "code",
   "execution_count": 16,
   "id": "3305c70f",
   "metadata": {},
   "outputs": [],
   "source": [
    "# group data together\n",
    "ttc_hist_data = []\n",
    "for ttc_feature in ttc_features:\n",
    "    ttc_hist_data.append(ttc_feature.to_list())\n",
    "    \n",
    "tgap_hist_data = []\n",
    "for tgap_feature in tgap_features:\n",
    "    tgap_hist_data.append(tgap_feature.to_list())"
   ]
  },
  {
   "cell_type": "code",
   "execution_count": null,
   "id": "39d2a60f",
   "metadata": {},
   "outputs": [],
   "source": [
    "# create distplot with custom bin_size\n",
    "fig = ff.create_distplot(tgap_hist_data, algo_names, bin_size=2, show_hist=False, colors=algo_colors, show_rug=False)\n",
    "\n",
    "fig.update_layout(title_text=\"Time Gap\")\n",
    "\n",
    "pio.write_image(fig, \"hist_plot_tgap_gen\" + str(gen_number) + \".svg\", width=1011, height=625)\n",
    "\n",
    "fig.show()"
   ]
  },
  {
   "cell_type": "code",
   "execution_count": null,
   "id": "d55120e1",
   "metadata": {},
   "outputs": [],
   "source": [
    "# create distplot with custom bin_size\n",
    "fig = ff.create_distplot(ttc_hist_data, algo_names, bin_size=2, show_hist=False, colors=algo_colors, show_rug=False)\n",
    "\n",
    "fig.update_layout(title_text=\"TTC\")\n",
    "\n",
    "pio.write_image(fig, \"hist_plot_ttc_gen\" + str(gen_number) + \".svg\", width=1011, height=625)\n",
    "\n",
    "fig.show()"
   ]
  },
  {
   "cell_type": "code",
   "execution_count": null,
   "id": "501634af",
   "metadata": {},
   "outputs": [],
   "source": [
    "# create distplot with custom bin_size\n",
    "fig = ff.create_distplot(\n",
    "    ttc_hist_data, algo_names,\n",
    "    bin_size=2,\n",
    "    show_hist=False,\n",
    "    colors=algo_colors,\n",
    "    show_rug=False\n",
    ")\n",
    "\n",
    "fig.update_layout(\n",
    "    # title=\"Number of Collisions in Evaluation of Each Model\",\n",
    "    xaxis_tickfont_size=24,\n",
    "    yaxis=dict(\n",
    "        title=\"Time Gap (s)\",\n",
    "        titlefont_size=20,\n",
    "        tickfont_size=20,\n",
    "    ),\n",
    "    legend=dict(\n",
    "        x=0.74,\n",
    "        y=1.00,\n",
    "        bgcolor=\"rgba(255, 255, 255, 0)\",\n",
    "        bordercolor=\"rgba(255, 255, 255, 0)\"\n",
    "    ),\n",
    "    barmode='group',\n",
    "    bargap=0.15, # gap between bars of adjacent location coordinates.\n",
    "    bargroupgap=0.1 # gap between bars of the same location coordinate.\n",
    ")\n",
    "fig.update_layout(showlegend=True)\n",
    "fig.update_layout(\n",
    "    xaxis_title=\"Time Gap (s)\",\n",
    "    yaxis_title=\"Density\",\n",
    "    font=dict(\n",
    "        family=\"Times New Roman\",\n",
    "        size=20,\n",
    "        color=\"black\"\n",
    "    )\n",
    ")\n",
    "\n",
    "pio.write_image(fig, \"hist_plot_ttc_gen\" + str(gen_number) + \".svg\", width=1011, height=625)\n",
    "\n",
    "fig.show()"
   ]
  },
  {
   "cell_type": "code",
   "execution_count": null,
   "id": "7b21bf4b",
   "metadata": {},
   "outputs": [],
   "source": [
    "fig = px.histogram(\n",
    "    pd.DataFrame(tgap_features[0]),\n",
    "    x=tgap_features[0].index, y=tgap_features[0].values, marginal=\"box\")\n",
    "fig.show()"
   ]
  },
  {
   "cell_type": "code",
   "execution_count": null,
   "id": "f4b69b30",
   "metadata": {},
   "outputs": [],
   "source": [
    "fig = px.box(tgap_features[0], x=tgap_features[0].index, y=tgap_features[0].values, \n",
    "             title=\"Course Enrollment Numbers\")\n",
    "fig.show()"
   ]
  },
  {
   "cell_type": "code",
   "execution_count": null,
   "id": "0083dd67",
   "metadata": {},
   "outputs": [],
   "source": [
    "GS_df = pd.DataFrame({\"tgap\": tgap_hist_data[0], \"method\": [\"GS\"]*len(tgap_hist_data[0]), \"color\": [algo_colors[0]]*len(tgap_hist_data[0])})\n",
    "MC_df = pd.DataFrame({\"tgap\": tgap_hist_data[1], \"method\": [\"MC\"]*len(tgap_hist_data[1]), \"color\": [algo_colors[1]]*len(tgap_hist_data[1])})\n",
    "CE_df = pd.DataFrame({\"tgap\": tgap_hist_data[2], \"method\": [\"CE\"]*len(tgap_hist_data[2]), \"color\": [algo_colors[2]]*len(tgap_hist_data[2])})\n",
    "BO_df = pd.DataFrame({\"tgap\": tgap_hist_data[3], \"method\": [\"BO\"]*len(tgap_hist_data[3]), \"color\": [algo_colors[3]]*len(tgap_hist_data[3])})\n",
    "AMS_df = pd.DataFrame({\"tgap\": tgap_hist_data[4], \"method\": [\"AMS\"]*len(tgap_hist_data[4]), \"color\": [algo_colors[4]]*len(tgap_hist_data[4])})\n",
    "algo_df = pd.concat([GS_df, MC_df, CE_df, BO_df, AMS_df])\n",
    "algo_df"
   ]
  },
  {
   "cell_type": "code",
   "execution_count": null,
   "id": "2d0fc78a",
   "metadata": {},
   "outputs": [],
   "source": [
    "fig = px.box(algo_df, x=\"method\", y=\"tgap\", color=\"color\", notched=True)\n",
    "\n",
    "fig.update_layout(\n",
    "    yaxis=dict(\n",
    "        autorange=True,\n",
    "        showgrid=True,\n",
    "        zeroline=True,\n",
    "        dtick=5,\n",
    "        gridcolor='rgb(255, 255, 255)',\n",
    "        gridwidth=1,\n",
    "        zerolinecolor='rgb(255, 255, 255)',\n",
    "        zerolinewidth=2,\n",
    "    ),\n",
    "#     margin=dict(\n",
    "#         l=40,\n",
    "#         r=30,\n",
    "#         b=80,\n",
    "#         t=100,\n",
    "#     ),\n",
    "    paper_bgcolor='rgb(243, 243, 243)',\n",
    "    plot_bgcolor='rgb(243, 243, 243)',\n",
    "    showlegend=False\n",
    ")\n",
    "\n",
    "fig.show()"
   ]
  },
  {
   "cell_type": "code",
   "execution_count": 58,
   "id": "6fdc7665",
   "metadata": {},
   "outputs": [
    {
     "data": {
      "image/png": "[encoded data removed]",
      "text/plain": [
       "<Figure size 936x1296 with 1 Axes>"
      ]
     },
     "metadata": {
      "needs_background": "light"
     },
     "output_type": "display_data"
    }
   ],
   "source": [
    "data = ttc_hist_data\n",
    "csfont = {'fontname':'Times New Roman', 'size'   : 26}\n",
    "csfont_small = {'fontname':'Times New Roman', 'size'   : 16}\n",
    " \n",
    "fig = plt.figure(figsize =(13, 18))\n",
    "ax = fig.add_subplot(111)\n",
    " \n",
    "# Creating axes instance\n",
    "bp = ax.boxplot(data, patch_artist = True, notch ='True', vert = 0)\n",
    "colors = [\"#400D51\", \"#005cab\", \"#e31b23\", \"#ffc325\", \"#6cac9a\", \"#ac6c6c\"]\n",
    "\n",
    "for patch, color in zip(bp['boxes'], colors):\n",
    "    patch.set_facecolor(color)\n",
    "# changing color and linewidth of\n",
    "for whisker in bp['whiskers']:\n",
    "    whisker.set(color = 'black', linewidth = 5, linestyle =\":\")\n",
    "# changing color and linewidth of\n",
    "for cap in bp['caps']:\n",
    "    cap.set(color = 'black', linewidth = 5)\n",
    "# changing color and linewidth of\n",
    "for median in bp['medians']:\n",
    "    median.set(color = 'yellow', linewidth = 0)\n",
    "    \n",
    "#ax.set_yticklabels(algo_names, **csfont_small)\n",
    "#plt.title(\"Generation - 3\", **csfont)\n",
    "\n",
    "#plt.xlabel(\"Time-to-Collision (s)\", **csfont)\n",
    "\n",
    "ax.get_xaxis().tick_bottom()\n",
    "ax.get_yaxis().tick_left()\n",
    "\n",
    "ax.tick_params(axis='x', which='major', labelsize=26)\n",
    "\n",
    "ax.grid(color='black', linestyle='-', linewidth=0.5)\n",
    "\n",
    "plt.savefig(\"test_ttc.svg\")\n",
    "\n",
    "plt.show()"
   ]
  },
  {
   "cell_type": "code",
   "execution_count": 59,
   "id": "72c8a7a2",
   "metadata": {},
   "outputs": [
    {
     "data": {
      "image/png": "[encoded data removed]",
      "text/plain": [
       "<Figure size 936x1296 with 1 Axes>"
      ]
     },
     "metadata": {
      "needs_background": "light"
     },
     "output_type": "display_data"
    }
   ],
   "source": [
    "data = tgap_hist_data\n",
    "csfont = {'fontname':'Times New Roman', 'size'   : 26}\n",
    "csfont_small = {'fontname':'Times New Roman', 'size'   : 16}\n",
    " \n",
    "fig = plt.figure(figsize =(13, 18))\n",
    "ax = fig.add_subplot(111)\n",
    " \n",
    "# Creating axes instance\n",
    "bp = ax.boxplot(data, patch_artist = True, notch ='True', vert = 0)\n",
    "colors = [\"#400D51\", \"#005cab\", \"#e31b23\", \"#ffc325\", \"#6cac9a\", \"#ac6c6c\"]\n",
    "\n",
    "for patch, color in zip(bp['boxes'], colors):\n",
    "    patch.set_facecolor(color)\n",
    "# changing color and linewidth of\n",
    "for whisker in bp['whiskers']:\n",
    "    whisker.set(color = 'black', linewidth = 5, linestyle =\":\")\n",
    "# changing color and linewidth of\n",
    "for cap in bp['caps']:\n",
    "    cap.set(color = 'black', linewidth = 5)\n",
    "# changing color and linewidth of\n",
    "for median in bp['medians']:\n",
    "    median.set(color = 'black', linewidth = 0)\n",
    "    \n",
    "#ax.set_yticklabels(algo_names, **csfont_small)\n",
    "#plt.title(\"Generation - 3\", **csfont)\n",
    "\n",
    "#plt.xlabel(\"Time-Gap (s)\", **csfont)\n",
    "\n",
    "ax.get_xaxis().tick_bottom()\n",
    "ax.get_yaxis().tick_left()\n",
    "\n",
    "ax.tick_params(axis='x', which='major', labelsize=26)\n",
    "\n",
    "ax.grid(color='black', linestyle='-', linewidth=0.5)\n",
    "\n",
    "plt.savefig(\"test_tgap.svg\")\n",
    "\n",
    "plt.show()"
   ]
  }
 ],
 "metadata": {
  "kernelspec": {
   "display_name": "Python 3.7.5 64-bit",
   "language": "python",
   "name": "python3"
  },
  "language_info": {
   "codemirror_mode": {
    "name": "ipython",
    "version": 3
   },
   "file_extension": ".py",
   "mimetype": "text/x-python",
   "name": "python",
   "nbconvert_exporter": "python",
   "pygments_lexer": "ipython3",
   "version": "3.7.5"
  },
  "vscode": {
   "interpreter": {
    "hash": "fd69f43f58546b570e94fd7eba7b65e6bcc7a5bbc4eab0408017d18902915d69"
   }
  }
 },
 "nbformat": 4,
 "nbformat_minor": 5
}
