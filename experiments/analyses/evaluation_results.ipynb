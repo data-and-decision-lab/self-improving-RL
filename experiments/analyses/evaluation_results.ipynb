{
 "cells": [
  {
   "cell_type": "markdown",
   "metadata": {},
   "source": [
    "### Import Libraries"
   ]
  },
  {
   "cell_type": "code",
   "execution_count": 42,
   "metadata": {},
   "outputs": [],
   "source": [
    "import os\n",
    "import sys\n",
    "import numpy as np\n",
    "import pandas as pd\n",
    "import matplotlib.pyplot as plt"
   ]
  },
  {
   "cell_type": "markdown",
   "metadata": {},
   "source": [
    "### Import Useful Functions"
   ]
  },
  {
   "cell_type": "code",
   "execution_count": 43,
   "metadata": {},
   "outputs": [],
   "source": [
    "parent_directory = os.path.join(os.environ[\"BLACK_BOX\"])\n",
    "evals_path = os.path.join(parent_directory, \"experiments/results/evaluation_statistics\")\n",
    "sys.path.append(parent_directory)\n",
    "\n",
    "from experiments.utils.validation_utils import load_eval_from_csv"
   ]
  },
  {
   "cell_type": "markdown",
   "metadata": {},
   "source": [
    "### Get Trained Agent Model Paths"
   ]
  },
  {
   "cell_type": "code",
   "execution_count": 44,
   "metadata": {},
   "outputs": [],
   "source": [
    "# evaluation RL model folders located in ./experiments/results/evaluation_statistics folder\n",
    "folder_name_1 = \"evaluation_PPOTrainer_highway_environment:highway-environment-v0_2022-08-07_21-22-18mdgw9lf4_Agent0\""
   ]
  },
  {
   "cell_type": "markdown",
   "metadata": {},
   "source": [
    "### Get All Files In the Directory"
   ]
  },
  {
   "cell_type": "code",
   "execution_count": 45,
   "metadata": {},
   "outputs": [],
   "source": [
    "eval_directory_1 = os.path.join(evals_path, folder_name_1)\n",
    "episode_evals_results_1 = [eval_directory_1 + \"/\" + f for f in os.listdir(eval_directory_1) if os.path.isfile(os.path.join(eval_directory_1, f))]"
   ]
  },
  {
   "cell_type": "markdown",
   "metadata": {},
   "source": [
    "### Return All Statistics for Each Episode"
   ]
  },
  {
   "cell_type": "code",
   "execution_count": 46,
   "metadata": {},
   "outputs": [],
   "source": [
    "full_eps_results = []\n",
    "eps_rewards = []\n",
    "\n",
    "for eps_stat in episode_evals_results_1:\n",
    "    \n",
    "    stat_df = load_eval_from_csv(file_name=eps_stat)\n",
    "    full_eps_results.append(stat_df)\n",
    "    \n",
    "    eps_avg_reward = stat_df[\"ego_rewards\"].mean(skipna = True)\n",
    "    eps_sum_reward = stat_df[\"ego_rewards\"].sum(skipna = True)\n",
    "    eps_rewards.append(eps_sum_reward)"
   ]
  },
  {
   "cell_type": "markdown",
   "metadata": {},
   "source": [
    "### Plot Results"
   ]
  },
  {
   "cell_type": "code",
   "execution_count": 47,
   "metadata": {},
   "outputs": [],
   "source": [
    "y_values = eps_rewards\n",
    "x_values = list(range(1, len(y_values) + 1, 1))"
   ]
  },
  {
   "cell_type": "code",
   "execution_count": null,
   "metadata": {},
   "outputs": [
    {
     "ename": "",
     "evalue": "",
     "output_type": "error",
     "traceback": [
      "\u001b[1;31mFailed to start the Kernel. \n",
      "\u001b[1;31mTraceback (most recent call last):\n",
      "\u001b[1;31m  File \"/home/resul/.vscode/extensions/ms-toolsai.jupyter-2022.7.1102252217/pythonFiles/vscode_datascience_helpers/jupyter_daemon.py\", line 158, in _start_notebook\n",
      "\u001b[1;31m    from notebook import notebookapp as app\n",
      "\u001b[1;31m  File \"/home/resul/.local/lib/python3.7/site-packages/notebook/notebookapp.py\", line 75, in <module>\n",
      "\u001b[1;31m    from .base.handlers import Template404, RedirectWithParams\n",
      "\u001b[1;31m  File \"/home/resul/.local/lib/python3.7/site-packages/notebook/base/handlers.py\", line 24, in <module>\n",
      "\u001b[1;31m    import prometheus_client\n",
      "\u001b[1;31mModuleNotFoundError: No module named 'prometheus_client'\n",
      "\u001b[1;31m\n",
      "\u001b[1;31mDuring handling of the above exception, another exception occurred:\n",
      "\u001b[1;31m\n",
      "\u001b[1;31mTraceback (most recent call last):\n",
      "\u001b[1;31m  File \"/home/resul/.vscode/extensions/ms-toolsai.jupyter-2022.7.1102252217/pythonFiles/vscode_datascience_helpers/daemon/daemon_python.py\", line 54, in _decorator\n",
      "\u001b[1;31m    return func(self, *args, **kwargs)\n",
      "\u001b[1;31m  File \"/home/resul/.vscode/extensions/ms-toolsai.jupyter-2022.7.1102252217/pythonFiles/vscode_datascience_helpers/jupyter_daemon.py\", line 111, in m_exec_module_observable\n",
      "\u001b[1;31m    self._start_notebook(args, cwd, env)\n",
      "\u001b[1;31m  File \"/home/resul/.vscode/extensions/ms-toolsai.jupyter-2022.7.1102252217/pythonFiles/vscode_datascience_helpers/jupyter_daemon.py\", line 160, in _start_notebook\n",
      "\u001b[1;31m    from notebook import app as app\n",
      "\u001b[1;31mImportError: cannot import name 'app' from 'notebook' (/home/resul/.local/lib/python3.7/site-packages/notebook/__init__.py)\n",
      "\u001b[1;31m\n",
      "\u001b[1;31mFailed to run jupyter as observable with args notebook --no-browser --notebook-dir=\"/home/resul/Research/Codes/BlackBox/black-box-verification/experiments/analyses\" --config=/tmp/669371f1-d4d0-45cc-8006-cb27a191e101/jupyter_notebook_config.py --NotebookApp.iopub_data_rate_limit=10000000000.0. \n",
      "View Jupyter <a href='command:jupyter.viewOutput'>log</a> for further details."
     ]
    }
   ],
   "source": [
    "plt.title(\"Evaluation Episode Reward\")\n",
    "plt.plot(x_values, y_values, color=\"red\")\n",
    "\n",
    "\n",
    "plt.show()"
   ]
  },
  {
   "cell_type": "code",
   "execution_count": null,
   "metadata": {},
   "outputs": [],
   "source": []
  }
 ],
 "metadata": {
  "kernelspec": {
   "display_name": "Python 3 (ipykernel)",
   "language": "python",
   "name": "python3"
  },
  "language_info": {
   "codemirror_mode": {
    "name": "ipython",
    "version": 3
   },
   "file_extension": ".py",
   "mimetype": "text/x-python",
   "name": "python",
   "nbconvert_exporter": "python",
   "pygments_lexer": "ipython3",
   "version": "3.7.13"
  },
  "vscode": {
   "interpreter": {
    "hash": "b77aff7649ba2a81292c27d8b3803e78308c619fc31255c3f8cb38deef8e8c14"
   }
  }
 },
 "nbformat": 4,
 "nbformat_minor": 2
}
