{
 "cells": [
  {
   "cell_type": "markdown",
   "id": "5ad3f677",
   "metadata": {},
   "source": [
    "### Import Libraries"
   ]
  },
  {
   "cell_type": "code",
   "execution_count": 30,
   "id": "5e762b3b",
   "metadata": {},
   "outputs": [],
   "source": [
    "import os\n",
    "import sys\n",
    "import math\n",
    "import numpy as np\n",
    "import pandas as pd\n",
    "import matplotlib.pyplot as plt\n",
    "import plotly as py\n",
    "import plotly.express as px\n",
    "import plotly.io as pio\n",
    "import plotly.figure_factory as ff\n",
    "from plotly.subplots import make_subplots"
   ]
  },
  {
   "cell_type": "markdown",
   "id": "1822b23f",
   "metadata": {},
   "source": [
    "### Import Useful Functions"
   ]
  },
  {
   "cell_type": "code",
   "execution_count": 31,
   "id": "7c4e4525",
   "metadata": {},
   "outputs": [],
   "source": [
    "parent_directory = os.path.join(os.environ[\"BLACK_BOX\"])\n",
    "validations_path = os.path.join(parent_directory, \"experiments/results/validation_checkpoints\")\n",
    "sys.path.append(parent_directory)\n",
    "\n",
    "from experiments.utils.validation_utils import extract_results_csv"
   ]
  },
  {
   "cell_type": "markdown",
   "id": "cb0f2267",
   "metadata": {},
   "source": [
    "### Get Algorithm Validation Results Paths"
   ]
  },
  {
   "cell_type": "code",
   "execution_count": 63,
   "id": "ec92eff8",
   "metadata": {},
   "outputs": [],
   "source": [
    "# validation algorithm resultant folders located in ./experiments/results/validation_checkpoints folder\n",
    "folder_name = \"beyesian_search_PPOTrainer_highway_environment:highway-environment-v0_2022-09-12_07-04-47d194k0gb_Agent2_bo_Chkpt294\"\n",
    "title_name = \"BO Simulation of PPO Agent-2\""
   ]
  },
  {
   "cell_type": "markdown",
   "id": "4fca4111",
   "metadata": {},
   "source": [
    "### Read Verification Results"
   ]
  },
  {
   "cell_type": "code",
   "execution_count": null,
   "id": "568ef4ae",
   "metadata": {},
   "outputs": [],
   "source": [
    "# read results.csv file inside given validation folder\n",
    "df = extract_results_csv(os.path.join(validations_path, folder_name, \"results.csv\"))\n",
    "df"
   ]
  },
  {
   "cell_type": "markdown",
   "id": "0efceeb4",
   "metadata": {},
   "source": [
    "### Print General Statistics"
   ]
  },
  {
   "cell_type": "code",
   "execution_count": null,
   "id": "295cfdfa",
   "metadata": {},
   "outputs": [],
   "source": [
    "n_samples = df.shape[0]\n",
    "print(\"Number of Samples :\\t\", df.shape)\n",
    "\n",
    "n_collisions = df[\"collision\"].value_counts()[True]\n",
    "print(\"Number of Collisions :\\t\", n_collisions)"
   ]
  },
  {
   "cell_type": "markdown",
   "id": "f6e0227a",
   "metadata": {},
   "source": [
    "### Extract Useful Columns"
   ]
  },
  {
   "cell_type": "code",
   "execution_count": 66,
   "id": "e453a72a",
   "metadata": {},
   "outputs": [],
   "source": [
    "ego_v1 = df[\"config/ego_v1\"].to_numpy()\n",
    "front_v1 = df[\"config/front_v1\"].to_numpy()\n",
    "front_v2 = df[\"config/front_v2\"].to_numpy()\n",
    "delta_dist = df[\"config/delta_dist\"].to_numpy()\n",
    "min_ttc = df[\"episode_min_ttc\"].to_numpy()"
   ]
  },
  {
   "cell_type": "code",
   "execution_count": 67,
   "id": "9319c6fe",
   "metadata": {},
   "outputs": [],
   "source": [
    "ego_v1_str = \"ego speed-1 (m/s)\"\n",
    "front_v1_str = \"mio speed-1 (m/s)\"\n",
    "front_v2_str = \"mio speed-2 (m/s)\"\n",
    "delta_dist_str = \"mio distance (m)\"\n",
    "min_ttc_str = \"TTC (s)\""
   ]
  },
  {
   "cell_type": "code",
   "execution_count": null,
   "id": "366d37c7",
   "metadata": {},
   "outputs": [],
   "source": [
    "configs_df = df[[\"config/ego_v1\", \"config/front_v1\", \"config/front_v2\", \"config/delta_dist\", \"episode_min_ttc\"]]\n",
    "configs_df = configs_df.rename(columns={\n",
    "                                        \"config/ego_v1\": ego_v1_str,\n",
    "                                        \"config/front_v1\": front_v1_str,\n",
    "                                        \"config/front_v2\": front_v2_str,\n",
    "                                        \"config/delta_dist\": delta_dist_str,\n",
    "                                        \"episode_min_ttc\": min_ttc_str})\n",
    "configs_df"
   ]
  },
  {
   "cell_type": "markdown",
   "id": "9a2c4464",
   "metadata": {},
   "source": [
    "### Remove Unnecessary (High TTC) Samples"
   ]
  },
  {
   "cell_type": "code",
   "execution_count": null,
   "id": "ad50fc58",
   "metadata": {},
   "outputs": [],
   "source": [
    "configs_df_risky = configs_df[configs_df[min_ttc_str] < 2.0]\n",
    "configs_df_risky"
   ]
  },
  {
   "cell_type": "code",
   "execution_count": null,
   "id": "8edd2cdc",
   "metadata": {},
   "outputs": [],
   "source": [
    "fig = px.scatter_3d(configs_df_risky,\n",
    "                    x=ego_v1_str, y=front_v1_str, z=front_v2_str,\n",
    "                    color=min_ttc_str,\n",
    "                    size_max=1)\n",
    "fig.show()"
   ]
  },
  {
   "cell_type": "code",
   "execution_count": null,
   "id": "dae6eb97",
   "metadata": {},
   "outputs": [],
   "source": [
    "fig = px.scatter_matrix(configs_df_risky,\n",
    "                       dimensions=[ego_v1_str,\n",
    "                                   front_v1_str,\n",
    "                                   front_v2_str,\n",
    "                                   delta_dist_str],\n",
    "                       color=min_ttc_str,\n",
    "                       color_continuous_scale=\"Rainbow\", # Portland\n",
    "                       opacity=1.0,\n",
    "                       #title=title_name\n",
    "                       )\n",
    "fig.update_layout(\n",
    "    font=dict(\n",
    "        family=\"Times New Roman\",\n",
    "        size=18,\n",
    "        color=\"black\"\n",
    "    )\n",
    ")\n",
    "# fig.update_traces(diagonal_visible=False)\n",
    "# fig.update_layout({\n",
    "#     \"plot_bgcolor\": \"rgba(0, 0, 0, 0)\",\n",
    "#     \"paper_bgcolor\": \"rgba(0, 0, 0, 0)\",\n",
    "# })\n",
    "fig.show()"
   ]
  },
  {
   "cell_type": "code",
   "execution_count": 72,
   "id": "9bf42e96",
   "metadata": {},
   "outputs": [],
   "source": [
    "pio.write_image(fig, title_name + \".svg\", width=1011, height=625)"
   ]
  },
  {
   "cell_type": "code",
   "execution_count": null,
   "id": "8c7be55d",
   "metadata": {
    "scrolled": true
   },
   "outputs": [],
   "source": [
    "fig = ff.create_scatterplotmatrix(configs_df_risky,\n",
    "                                  diag=\"box\",\n",
    "                                  index=min_ttc_str,\n",
    "                                  colormap=px.colors.sequential.Viridis,\n",
    "                                  height=500, width=800)\n",
    "py.offline.iplot(fig, filename=title_name)"
   ]
  },
  {
   "cell_type": "code",
   "execution_count": null,
   "id": "0ae9077f",
   "metadata": {},
   "outputs": [],
   "source": [
    "px.colors.named_colorscales()"
   ]
  }
 ],
 "metadata": {
  "kernelspec": {
   "display_name": "Python 3 (ipykernel)",
   "language": "python",
   "name": "python3"
  },
  "language_info": {
   "codemirror_mode": {
    "name": "ipython",
    "version": 3
   },
   "file_extension": ".py",
   "mimetype": "text/x-python",
   "name": "python",
   "nbconvert_exporter": "python",
   "pygments_lexer": "ipython3",
   "version": "3.7.5"
  },
  "vscode": {
   "interpreter": {
    "hash": "fd69f43f58546b570e94fd7eba7b65e6bcc7a5bbc4eab0408017d18902915d69"
   }
  }
 },
 "nbformat": 4,
 "nbformat_minor": 5
}
